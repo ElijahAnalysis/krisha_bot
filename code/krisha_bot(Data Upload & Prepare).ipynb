{
 "cells": [
  {
   "cell_type": "code",
   "execution_count": 1,
   "id": "ac6cca6f-ab49-48cf-a109-bdc365e87992",
   "metadata": {},
   "outputs": [],
   "source": [
    "# Core Libraries\n",
    "import pandas as pd\n",
    "import numpy as np\n",
    "import matplotlib.pyplot as plt\n",
    "import seaborn as sns\n",
    "from datetime import datetime, timedelta\n",
    "from scipy import stats\n",
    "from scipy.stats import randint, uniform\n",
    "\n",
    "pd.options.display.float_format = '{:.2f}'.format"
   ]
  },
  {
   "cell_type": "markdown",
   "id": "46c95457-b8ec-436e-9fc7-40d2bec83c8a",
   "metadata": {},
   "source": [
    "## IMPORT & EXPLORE"
   ]
  },
  {
   "cell_type": "markdown",
   "id": "cd8a85a0-62fd-40d7-8b47-3726475d37df",
   "metadata": {
    "jp-MarkdownHeadingCollapsed": true
   },
   "source": [
    "#### FUNCTIONS"
   ]
  },
  {
   "cell_type": "code",
   "execution_count": 2,
   "id": "43ae28a6-af9b-4085-a910-9d1884c80e12",
   "metadata": {},
   "outputs": [],
   "source": [
    "def cleaner(df, \n",
    "            unneeded_columns=None, \n",
    "            date_columns=None, \n",
    "            date_format = None , \n",
    "            to_category_columns=None, \n",
    "            to_cat_code_columns = None , \n",
    "            outlier_columns=None):\n",
    "\n",
    "    \"\"\" \n",
    "    This function get pandas DataFrame and attributes like 'date_columns' and 'to_category_columns' to manipulate ,\n",
    "    clean and prepare dataset for usage.\n",
    "    \n",
    "    \"\"\"\n",
    "    \n",
    "    # Convert specified columns to datetime\n",
    "    if date_columns:\n",
    "        for date_column in date_columns:\n",
    "            if date_column in df.columns:\n",
    "                df[date_column] = pd.to_datetime(df[date_column], format = date_format ,errors='coerce')\n",
    "\n",
    "    # Convert specified columns to category\n",
    "    if to_category_columns:\n",
    "        for category_column in to_category_columns:\n",
    "            if category_column in df.columns:\n",
    "                df[category_column] = df[category_column].astype('category')\n",
    "                \n",
    "        if to_cat_code_columns:\n",
    "            for column in to_cat_code_columns:\n",
    "                df[f'{column}_code'] = df[column].cat.codes\n",
    "\n",
    "    # Handle outliers using the IQR method\n",
    "    if outlier_columns:\n",
    "        for outlier_column in outlier_columns:\n",
    "            if outlier_column in df.columns:\n",
    "                iqr = df[outlier_column].quantile(0.75) - df[outlier_column].quantile(0.25)\n",
    "                lower_bound = df[outlier_column].quantile(0.25) - (1.5 * iqr)\n",
    "                upper_bound = df[outlier_column].quantile(0.75) + (1.5 * iqr)\n",
    "                df = df[(df[outlier_column] >= lower_bound) & (df[outlier_column] <= upper_bound)]\n",
    "\n",
    "     # Drop unnecessary columns\n",
    "    if unneeded_columns:\n",
    "        df = df.drop(columns=unneeded_columns)  # Use 'errors=\"ignore\"' to avoid errors if columns don't exist.\n",
    "\n",
    "    # Rename columns\n",
    "    df.columns = df.columns.str.lower()\n",
    "    df.columns = df.columns.str.replace(' ', '_')\n",
    "    df.columns = df.columns.str.replace('(', '', regex=False)\n",
    "    df.columns = df.columns.str.replace(')', '', regex=False)\n",
    "    df.columns = df.columns.str.replace('-', '_', regex=False)\n",
    "    df.columns = df.columns.str.replace('.', '', regex=False)\n",
    "    df.columns = df.columns.str.replace('/', '', regex=False)\n",
    "    df.columns = df.columns.str.replace('\\\\', '', regex=False)\n",
    "    df.columns = df.columns.str.replace('%', '_percent', regex=False)\n",
    "    \n",
    "    return df"
   ]
  },
  {
   "cell_type": "markdown",
   "id": "060b8971-223e-4179-9e8e-abf6de182c36",
   "metadata": {
    "jp-MarkdownHeadingCollapsed": true
   },
   "source": [
    "#### DATA"
   ]
  },
  {
   "cell_type": "code",
   "execution_count": 3,
   "id": "b3b38a7a-d959-4190-8d22-d8c9129421d0",
   "metadata": {},
   "outputs": [],
   "source": [
    "krisha_almaty_dataset = pd.read_csv(r\"C:\\Users\\User\\Desktop\\DATA SCIENCE\\Github\\krisha_bot\\data\\original_source\\krisha_almaty_dataset.csv\")"
   ]
  },
  {
   "cell_type": "code",
   "execution_count": 4,
   "id": "1d83af57-5b49-48a2-84be-106f8ef40a7f",
   "metadata": {},
   "outputs": [
    {
     "data": {
      "text/html": [
       "<div>\n",
       "<style scoped>\n",
       "    .dataframe tbody tr th:only-of-type {\n",
       "        vertical-align: middle;\n",
       "    }\n",
       "\n",
       "    .dataframe tbody tr th {\n",
       "        vertical-align: top;\n",
       "    }\n",
       "\n",
       "    .dataframe thead th {\n",
       "        text-align: right;\n",
       "    }\n",
       "</style>\n",
       "<table border=\"1\" class=\"dataframe\">\n",
       "  <thead>\n",
       "    <tr style=\"text-align: right;\">\n",
       "      <th></th>\n",
       "      <th>price</th>\n",
       "      <th>floor</th>\n",
       "      <th>area_sqm</th>\n",
       "      <th>rooms</th>\n",
       "      <th>title</th>\n",
       "      <th>city</th>\n",
       "      <th>id</th>\n",
       "      <th>balcony</th>\n",
       "      <th>bathroom</th>\n",
       "      <th>contact_name</th>\n",
       "      <th>...</th>\n",
       "      <th>has_phone</th>\n",
       "      <th>images_count</th>\n",
       "      <th>images_downloaded</th>\n",
       "      <th>parameters_raw</th>\n",
       "      <th>parking</th>\n",
       "      <th>price_raw</th>\n",
       "      <th>security</th>\n",
       "      <th>total_floors</th>\n",
       "      <th>url</th>\n",
       "      <th>image_paths</th>\n",
       "    </tr>\n",
       "  </thead>\n",
       "  <tbody>\n",
       "    <tr>\n",
       "      <th>3426</th>\n",
       "      <td>230000</td>\n",
       "      <td>6.00</td>\n",
       "      <td>40.50</td>\n",
       "      <td>1</td>\n",
       "      <td>1-комнатная квартира · 40.5 м² · 6/9 этаж · по...</td>\n",
       "      <td>almaty</td>\n",
       "      <td>694845092</td>\n",
       "      <td>NaN</td>\n",
       "      <td>совмещен</td>\n",
       "      <td>Хозяин недвижимости</td>\n",
       "      <td>...</td>\n",
       "      <td>False</td>\n",
       "      <td>7</td>\n",
       "      <td>7</td>\n",
       "      <td>{'Бывшее общежитие': 'нет', 'Удобства': 'интер...</td>\n",
       "      <td>NaN</td>\n",
       "      <td>230 000 〒\\r\\n/ месяц</td>\n",
       "      <td>NaN</td>\n",
       "      <td>9.00</td>\n",
       "      <td>https://krisha.kz/a/show/694845092</td>\n",
       "      <td>listing_694845092/image_01.jpg;listing_6948450...</td>\n",
       "    </tr>\n",
       "    <tr>\n",
       "      <th>1054</th>\n",
       "      <td>200000</td>\n",
       "      <td>4.00</td>\n",
       "      <td>34.00</td>\n",
       "      <td>1</td>\n",
       "      <td>1-комнатная квартира · 34 м² · 4/5 этаж · поме...</td>\n",
       "      <td>almaty</td>\n",
       "      <td>760188964</td>\n",
       "      <td>NaN</td>\n",
       "      <td>NaN</td>\n",
       "      <td>Хозяин недвижимости</td>\n",
       "      <td>...</td>\n",
       "      <td>False</td>\n",
       "      <td>9</td>\n",
       "      <td>9</td>\n",
       "      <td>{}</td>\n",
       "      <td>NaN</td>\n",
       "      <td>200 000 〒\\r\\n/ месяц</td>\n",
       "      <td>NaN</td>\n",
       "      <td>5.00</td>\n",
       "      <td>https://krisha.kz/a/show/760188964</td>\n",
       "      <td>listing_760188964/image_01.jpg;listing_7601889...</td>\n",
       "    </tr>\n",
       "    <tr>\n",
       "      <th>1788</th>\n",
       "      <td>550000</td>\n",
       "      <td>NaN</td>\n",
       "      <td>120.00</td>\n",
       "      <td>3</td>\n",
       "      <td>3-комнатная квартира · 120 м² · 2 этаж · помес...</td>\n",
       "      <td>almaty</td>\n",
       "      <td>1000453699</td>\n",
       "      <td>1</td>\n",
       "      <td>разделен</td>\n",
       "      <td>Хозяин недвижимости</td>\n",
       "      <td>...</td>\n",
       "      <td>False</td>\n",
       "      <td>9</td>\n",
       "      <td>9</td>\n",
       "      <td>{'Бывшее общежитие': 'нет', 'Мебель': 'кровать...</td>\n",
       "      <td>NaN</td>\n",
       "      <td>550 000 〒\\r\\n/ месяц</td>\n",
       "      <td>NaN</td>\n",
       "      <td>NaN</td>\n",
       "      <td>https://krisha.kz/a/show/1000453699</td>\n",
       "      <td>listing_1000453699/image_01.jpg;listing_100045...</td>\n",
       "    </tr>\n",
       "    <tr>\n",
       "      <th>4475</th>\n",
       "      <td>250000</td>\n",
       "      <td>7.00</td>\n",
       "      <td>64.00</td>\n",
       "      <td>2</td>\n",
       "      <td>2-комнатная квартира · 64 м² · 7/9 этаж · поме...</td>\n",
       "      <td>almaty</td>\n",
       "      <td>1000210393</td>\n",
       "      <td>1</td>\n",
       "      <td>разделен</td>\n",
       "      <td>Хозяин недвижимости</td>\n",
       "      <td>...</td>\n",
       "      <td>False</td>\n",
       "      <td>10</td>\n",
       "      <td>10</td>\n",
       "      <td>{'Мебель': 'кровать, шкаф для одежды, кухонный...</td>\n",
       "      <td>NaN</td>\n",
       "      <td>250 000 〒\\r\\n/ месяц</td>\n",
       "      <td>NaN</td>\n",
       "      <td>9.00</td>\n",
       "      <td>https://krisha.kz/a/show/1000210393</td>\n",
       "      <td>listing_1000210393/image_01.jpg;listing_100021...</td>\n",
       "    </tr>\n",
       "    <tr>\n",
       "      <th>6187</th>\n",
       "      <td>270000</td>\n",
       "      <td>3.00</td>\n",
       "      <td>42.00</td>\n",
       "      <td>2</td>\n",
       "      <td>2-комнатная квартира · 42 м² · 3/4 этаж · поме...</td>\n",
       "      <td>almaty</td>\n",
       "      <td>699059857</td>\n",
       "      <td>1</td>\n",
       "      <td>совмещен</td>\n",
       "      <td>Хозяин недвижимости</td>\n",
       "      <td>...</td>\n",
       "      <td>False</td>\n",
       "      <td>20</td>\n",
       "      <td>20</td>\n",
       "      <td>{'Мебель': 'кровать, обеденный стол, шкаф для ...</td>\n",
       "      <td>NaN</td>\n",
       "      <td>270 000 〒\\r\\n/ месяц</td>\n",
       "      <td>NaN</td>\n",
       "      <td>4.00</td>\n",
       "      <td>https://krisha.kz/a/show/699059857</td>\n",
       "      <td>listing_699059857/image_01.jpg;listing_6990598...</td>\n",
       "    </tr>\n",
       "  </tbody>\n",
       "</table>\n",
       "<p>5 rows × 23 columns</p>\n",
       "</div>"
      ],
      "text/plain": [
       "       price  floor  area_sqm  rooms  \\\n",
       "3426  230000   6.00     40.50      1   \n",
       "1054  200000   4.00     34.00      1   \n",
       "1788  550000    NaN    120.00      3   \n",
       "4475  250000   7.00     64.00      2   \n",
       "6187  270000   3.00     42.00      2   \n",
       "\n",
       "                                                  title    city          id  \\\n",
       "3426  1-комнатная квартира · 40.5 м² · 6/9 этаж · по...  almaty   694845092   \n",
       "1054  1-комнатная квартира · 34 м² · 4/5 этаж · поме...  almaty   760188964   \n",
       "1788  3-комнатная квартира · 120 м² · 2 этаж · помес...  almaty  1000453699   \n",
       "4475  2-комнатная квартира · 64 м² · 7/9 этаж · поме...  almaty  1000210393   \n",
       "6187  2-комнатная квартира · 42 м² · 3/4 этаж · поме...  almaty   699059857   \n",
       "\n",
       "     balcony  bathroom         contact_name  ... has_phone images_count  \\\n",
       "3426     NaN  совмещен  Хозяин недвижимости  ...     False            7   \n",
       "1054     NaN       NaN  Хозяин недвижимости  ...     False            9   \n",
       "1788       1  разделен  Хозяин недвижимости  ...     False            9   \n",
       "4475       1  разделен  Хозяин недвижимости  ...     False           10   \n",
       "6187       1  совмещен  Хозяин недвижимости  ...     False           20   \n",
       "\n",
       "     images_downloaded                                     parameters_raw  \\\n",
       "3426                 7  {'Бывшее общежитие': 'нет', 'Удобства': 'интер...   \n",
       "1054                 9                                                 {}   \n",
       "1788                 9  {'Бывшее общежитие': 'нет', 'Мебель': 'кровать...   \n",
       "4475                10  {'Мебель': 'кровать, шкаф для одежды, кухонный...   \n",
       "6187                20  {'Мебель': 'кровать, обеденный стол, шкаф для ...   \n",
       "\n",
       "      parking             price_raw security total_floors  \\\n",
       "3426      NaN  230 000 〒\\r\\n/ месяц      NaN         9.00   \n",
       "1054      NaN  200 000 〒\\r\\n/ месяц      NaN         5.00   \n",
       "1788      NaN  550 000 〒\\r\\n/ месяц      NaN          NaN   \n",
       "4475      NaN  250 000 〒\\r\\n/ месяц      NaN         9.00   \n",
       "6187      NaN  270 000 〒\\r\\n/ месяц      NaN         4.00   \n",
       "\n",
       "                                      url  \\\n",
       "3426   https://krisha.kz/a/show/694845092   \n",
       "1054   https://krisha.kz/a/show/760188964   \n",
       "1788  https://krisha.kz/a/show/1000453699   \n",
       "4475  https://krisha.kz/a/show/1000210393   \n",
       "6187   https://krisha.kz/a/show/699059857   \n",
       "\n",
       "                                            image_paths  \n",
       "3426  listing_694845092/image_01.jpg;listing_6948450...  \n",
       "1054  listing_760188964/image_01.jpg;listing_7601889...  \n",
       "1788  listing_1000453699/image_01.jpg;listing_100045...  \n",
       "4475  listing_1000210393/image_01.jpg;listing_100021...  \n",
       "6187  listing_699059857/image_01.jpg;listing_6990598...  \n",
       "\n",
       "[5 rows x 23 columns]"
      ]
     },
     "execution_count": 4,
     "metadata": {},
     "output_type": "execute_result"
    }
   ],
   "source": [
    "krisha_almaty_dataset.sample(5)"
   ]
  },
  {
   "cell_type": "code",
   "execution_count": 8,
   "id": "5278a838-27ef-44a1-8a9c-811cdc748013",
   "metadata": {},
   "outputs": [
    {
     "name": "stdout",
     "output_type": "stream",
     "text": [
      "<class 'pandas.core.frame.DataFrame'>\n",
      "RangeIndex: 6575 entries, 0 to 6574\n",
      "Data columns (total 23 columns):\n",
      " #   Column             Non-Null Count  Dtype  \n",
      "---  ------             --------------  -----  \n",
      " 0   price              6575 non-null   int64  \n",
      " 1   floor              6195 non-null   float64\n",
      " 2   area_sqm           6575 non-null   float64\n",
      " 3   rooms              6575 non-null   int64  \n",
      " 4   title              6575 non-null   object \n",
      " 5   city               6575 non-null   object \n",
      " 6   id                 6575 non-null   int64  \n",
      " 7   balcony            3939 non-null   object \n",
      " 8   bathroom           5162 non-null   object \n",
      " 9   contact_name       6574 non-null   object \n",
      " 10  description        6523 non-null   object \n",
      " 11  full_address       6575 non-null   object \n",
      " 12  furniture          4527 non-null   object \n",
      " 13  has_phone          6575 non-null   bool   \n",
      " 14  images_count       6575 non-null   int64  \n",
      " 15  images_downloaded  6575 non-null   int64  \n",
      " 16  parameters_raw     6575 non-null   object \n",
      " 17  parking            137 non-null    object \n",
      " 18  price_raw          6575 non-null   object \n",
      " 19  security           1038 non-null   object \n",
      " 20  total_floors       6195 non-null   float64\n",
      " 21  url                6575 non-null   object \n",
      " 22  image_paths        6405 non-null   object \n",
      "dtypes: bool(1), float64(3), int64(5), object(14)\n",
      "memory usage: 1.1+ MB\n"
     ]
    }
   ],
   "source": [
    "krisha_almaty_dataset.info()"
   ]
  },
  {
   "cell_type": "code",
   "execution_count": 9,
   "id": "b498e0ec-89d8-4648-8f90-4706190e91d6",
   "metadata": {},
   "outputs": [
    {
     "data": {
      "text/plain": [
       "Index(['price', 'floor', 'area_sqm', 'rooms', 'title', 'city', 'id', 'balcony',\n",
       "       'bathroom', 'contact_name', 'description', 'full_address', 'furniture',\n",
       "       'has_phone', 'images_count', 'images_downloaded', 'parameters_raw',\n",
       "       'parking', 'price_raw', 'security', 'total_floors', 'url',\n",
       "       'image_paths'],\n",
       "      dtype='object')"
      ]
     },
     "execution_count": 9,
     "metadata": {},
     "output_type": "execute_result"
    }
   ],
   "source": [
    "krisha_almaty_dataset.columns"
   ]
  },
  {
   "cell_type": "code",
   "execution_count": 5,
   "id": "2e7e5214-c877-4e34-9868-b3019039712a",
   "metadata": {},
   "outputs": [],
   "source": [
    "krisha_almaty_dataset_filtered_columns = krisha_almaty_dataset[['id','floor','total_floors',\n",
    "                                                                'area_sqm', 'rooms','bathroom',\n",
    "                                                                'full_address','furniture','parking',\n",
    "                                                                'security','price','url']]"
   ]
  },
  {
   "cell_type": "code",
   "execution_count": 6,
   "id": "c3c84b27-1db8-4088-9ade-e9b6990fafbf",
   "metadata": {},
   "outputs": [
    {
     "data": {
      "text/html": [
       "<div>\n",
       "<style scoped>\n",
       "    .dataframe tbody tr th:only-of-type {\n",
       "        vertical-align: middle;\n",
       "    }\n",
       "\n",
       "    .dataframe tbody tr th {\n",
       "        vertical-align: top;\n",
       "    }\n",
       "\n",
       "    .dataframe thead th {\n",
       "        text-align: right;\n",
       "    }\n",
       "</style>\n",
       "<table border=\"1\" class=\"dataframe\">\n",
       "  <thead>\n",
       "    <tr style=\"text-align: right;\">\n",
       "      <th></th>\n",
       "      <th>id</th>\n",
       "      <th>floor</th>\n",
       "      <th>total_floors</th>\n",
       "      <th>area_sqm</th>\n",
       "      <th>rooms</th>\n",
       "      <th>bathroom</th>\n",
       "      <th>full_address</th>\n",
       "      <th>furniture</th>\n",
       "      <th>parking</th>\n",
       "      <th>security</th>\n",
       "      <th>price</th>\n",
       "      <th>url</th>\n",
       "    </tr>\n",
       "  </thead>\n",
       "  <tbody>\n",
       "    <tr>\n",
       "      <th>5813</th>\n",
       "      <td>698526047</td>\n",
       "      <td>1.00</td>\n",
       "      <td>1.00</td>\n",
       "      <td>90.00</td>\n",
       "      <td>3</td>\n",
       "      <td>совмещен</td>\n",
       "      <td>Алматы, Ауэзовский р-н\\r\\nпоказать на карте</td>\n",
       "      <td>NaN</td>\n",
       "      <td>NaN</td>\n",
       "      <td>NaN</td>\n",
       "      <td>500000</td>\n",
       "      <td>https://krisha.kz/a/show/698526047</td>\n",
       "    </tr>\n",
       "    <tr>\n",
       "      <th>5934</th>\n",
       "      <td>1000637925</td>\n",
       "      <td>2.00</td>\n",
       "      <td>5.00</td>\n",
       "      <td>45.00</td>\n",
       "      <td>1</td>\n",
       "      <td>совмещен</td>\n",
       "      <td>Алматы, Алмалинский р-н\\r\\nпоказать на карте</td>\n",
       "      <td>кровать, обеденный стол, шкаф для одежды, кухо...</td>\n",
       "      <td>NaN</td>\n",
       "      <td>NaN</td>\n",
       "      <td>200000</td>\n",
       "      <td>https://krisha.kz/a/show/1000637925</td>\n",
       "    </tr>\n",
       "    <tr>\n",
       "      <th>1524</th>\n",
       "      <td>1000503869</td>\n",
       "      <td>2.00</td>\n",
       "      <td>5.00</td>\n",
       "      <td>45.00</td>\n",
       "      <td>2</td>\n",
       "      <td>NaN</td>\n",
       "      <td>Алматы, Алмалинский р-н\\r\\nпоказать на карте</td>\n",
       "      <td>NaN</td>\n",
       "      <td>NaN</td>\n",
       "      <td>NaN</td>\n",
       "      <td>280000</td>\n",
       "      <td>https://krisha.kz/a/show/1000503869</td>\n",
       "    </tr>\n",
       "    <tr>\n",
       "      <th>1067</th>\n",
       "      <td>1000732514</td>\n",
       "      <td>5.00</td>\n",
       "      <td>5.00</td>\n",
       "      <td>100.00</td>\n",
       "      <td>4</td>\n",
       "      <td>разделен</td>\n",
       "      <td>Алматы\\r\\nпоказать на карте</td>\n",
       "      <td>NaN</td>\n",
       "      <td>NaN</td>\n",
       "      <td>NaN</td>\n",
       "      <td>600000</td>\n",
       "      <td>https://krisha.kz/a/show/1000732514</td>\n",
       "    </tr>\n",
       "    <tr>\n",
       "      <th>2242</th>\n",
       "      <td>761960516</td>\n",
       "      <td>4.00</td>\n",
       "      <td>17.00</td>\n",
       "      <td>58.00</td>\n",
       "      <td>2</td>\n",
       "      <td>совмещен</td>\n",
       "      <td>Алматы, Бостандыкский р-н\\r\\nпоказать на карте</td>\n",
       "      <td>кровать, обеденный стол, шкаф для одежды, кухо...</td>\n",
       "      <td>NaN</td>\n",
       "      <td>NaN</td>\n",
       "      <td>420000</td>\n",
       "      <td>https://krisha.kz/a/show/761960516</td>\n",
       "    </tr>\n",
       "  </tbody>\n",
       "</table>\n",
       "</div>"
      ],
      "text/plain": [
       "              id  floor  total_floors  area_sqm  rooms  bathroom  \\\n",
       "5813   698526047   1.00          1.00     90.00      3  совмещен   \n",
       "5934  1000637925   2.00          5.00     45.00      1  совмещен   \n",
       "1524  1000503869   2.00          5.00     45.00      2       NaN   \n",
       "1067  1000732514   5.00          5.00    100.00      4  разделен   \n",
       "2242   761960516   4.00         17.00     58.00      2  совмещен   \n",
       "\n",
       "                                        full_address  \\\n",
       "5813     Алматы, Ауэзовский р-н\\r\\nпоказать на карте   \n",
       "5934    Алматы, Алмалинский р-н\\r\\nпоказать на карте   \n",
       "1524    Алматы, Алмалинский р-н\\r\\nпоказать на карте   \n",
       "1067                     Алматы\\r\\nпоказать на карте   \n",
       "2242  Алматы, Бостандыкский р-н\\r\\nпоказать на карте   \n",
       "\n",
       "                                              furniture parking security  \\\n",
       "5813                                                NaN     NaN      NaN   \n",
       "5934  кровать, обеденный стол, шкаф для одежды, кухо...     NaN      NaN   \n",
       "1524                                                NaN     NaN      NaN   \n",
       "1067                                                NaN     NaN      NaN   \n",
       "2242  кровать, обеденный стол, шкаф для одежды, кухо...     NaN      NaN   \n",
       "\n",
       "       price                                  url  \n",
       "5813  500000   https://krisha.kz/a/show/698526047  \n",
       "5934  200000  https://krisha.kz/a/show/1000637925  \n",
       "1524  280000  https://krisha.kz/a/show/1000503869  \n",
       "1067  600000  https://krisha.kz/a/show/1000732514  \n",
       "2242  420000   https://krisha.kz/a/show/761960516  "
      ]
     },
     "execution_count": 6,
     "metadata": {},
     "output_type": "execute_result"
    }
   ],
   "source": [
    "krisha_almaty_dataset_filtered_columns.sample(5)"
   ]
  },
  {
   "cell_type": "code",
   "execution_count": 18,
   "id": "bbb534c0-2996-49fd-a83d-8a2facc77345",
   "metadata": {},
   "outputs": [
    {
     "data": {
      "text/plain": [
       "<matplotlib.lines.Line2D at 0x1e79a35df70>"
      ]
     },
     "execution_count": 18,
     "metadata": {},
     "output_type": "execute_result"
    },
    {
     "data": {
      "image/png": "[encoded data removed]",
      "text/plain": [
       "<Figure size 640x480 with 1 Axes>"
      ]
     },
     "metadata": {},
     "output_type": "display_data"
    }
   ],
   "source": [
    "krisha_almaty_dataset_filtered_columns['price'].hist(bins = 50)\n",
    "\n",
    "plt.axvline(x = krisha_almaty_dataset_filtered_columns['price'].mean(),\n",
    "            color = 'black',\n",
    "            linestyle = '--')\n"
   ]
  },
  {
   "cell_type": "code",
   "execution_count": 19,
   "id": "502bc18a-c479-477a-959a-908498dc762b",
   "metadata": {},
   "outputs": [
    {
     "data": {
      "text/plain": [
       "<matplotlib.lines.Line2D at 0x1e79a435250>"
      ]
     },
     "execution_count": 19,
     "metadata": {},
     "output_type": "execute_result"
    },
    {
     "data": {
      "image/png": "[encoded data removed]",
      "text/plain": [
       "<Figure size 640x480 with 1 Axes>"
      ]
     },
     "metadata": {},
     "output_type": "display_data"
    }
   ],
   "source": [
    "krisha_almaty_dataset_filtered_columns['area_sqm'].hist(bins = 50,color = 'orange')\n",
    "\n",
    "plt.axvline(x = krisha_almaty_dataset_filtered_columns['area_sqm'].mean(),\n",
    "            color = 'black',\n",
    "            linestyle = '--')"
   ]
  },
  {
   "cell_type": "code",
   "execution_count": 20,
   "id": "22ad6a5c-c1ae-46f3-9265-8791ae987485",
   "metadata": {},
   "outputs": [
    {
     "data": {
      "text/plain": [
       "<matplotlib.lines.Line2D at 0x1e79a0d7800>"
      ]
     },
     "execution_count": 20,
     "metadata": {},
     "output_type": "execute_result"
    },
    {
     "data": {
      "image/png": "[encoded data removed]",
      "text/plain": [
       "<Figure size 640x480 with 1 Axes>"
      ]
     },
     "metadata": {},
     "output_type": "display_data"
    }
   ],
   "source": [
    "price_per_sqm = krisha_almaty_dataset_filtered_columns['price'] / krisha_almaty_dataset_filtered_columns['area_sqm']\n",
    "\n",
    "price_per_sqm.hist(bins = 50, color = 'green')\n",
    "\n",
    "plt.axvline(x = price_per_sqm.mean(),\n",
    "            color = 'black',\n",
    "            linestyle = '--')\n"
   ]
  },
  {
   "cell_type": "markdown",
   "id": "be30640b-1dc7-4e83-9086-f806a99e443c",
   "metadata": {},
   "source": [
    "## CLEAN & PREPARE"
   ]
  },
  {
   "cell_type": "markdown",
   "id": "fe51d4db-72e5-41fc-908f-0401bde8fd41",
   "metadata": {
    "jp-MarkdownHeadingCollapsed": true
   },
   "source": [
    "#### DEALING WITH NaNs"
   ]
  },
  {
   "cell_type": "code",
   "execution_count": 7,
   "id": "012935a8-6d70-4487-a2a2-0af8f3eac204",
   "metadata": {},
   "outputs": [
    {
     "name": "stdout",
     "output_type": "stream",
     "text": [
      "\n",
      " column floor has 6.0 % of missing values\n",
      "\n",
      " column total_floors has 6.0 % of missing values\n",
      "\n",
      " column bathroom has 21.0 % of missing values\n",
      "\n",
      " column furniture has 31.0 % of missing values\n",
      "\n",
      " column parking has 98.0 % of missing values\n",
      "\n",
      " column security has 84.0 % of missing values\n"
     ]
    }
   ],
   "source": [
    "for column in krisha_almaty_dataset_filtered_columns.columns:\n",
    "\n",
    "    if krisha_almaty_dataset_filtered_columns[column].isna().sum() != 0:\n",
    "\n",
    "        print(f'\\n column {column} has {np.round(krisha_almaty_dataset_filtered_columns[column].isna().sum() / krisha_almaty_dataset_filtered_columns.shape[0],2) * 100} % of missing values')"
   ]
  },
  {
   "cell_type": "code",
   "execution_count": 9,
   "id": "b79d4e4d-60b0-4972-91ad-258ca9cd3c07",
   "metadata": {},
   "outputs": [],
   "source": [
    " #column floor has 6.0 % of missing values\n",
    "\n",
    " #column total_floors has 6.0 % of missing values \n",
    "\n",
    " # all of them has small amount of nans, but still ,\n",
    " # in order to keep as much data as possible for training, let's deal with them using KNN later"
   ]
  },
  {
   "cell_type": "code",
   "execution_count": 11,
   "id": "9d2ef32c-53fe-4cd9-b5e3-5bdc4fa1534f",
   "metadata": {},
   "outputs": [
    {
     "name": "stderr",
     "output_type": "stream",
     "text": [
      "C:\\Users\\User\\AppData\\Local\\Temp\\ipykernel_17764\\2112716305.py:4: SettingWithCopyWarning: \n",
      "A value is trying to be set on a copy of a slice from a DataFrame.\n",
      "Try using .loc[row_indexer,col_indexer] = value instead\n",
      "\n",
      "See the caveats in the documentation: https://pandas.pydata.org/pandas-docs/stable/user_guide/indexing.html#returning-a-view-versus-a-copy\n",
      "  krisha_almaty_dataset_filtered_columns[column] = krisha_almaty_dataset_filtered_columns[column].fillna('неизвестно')\n"
     ]
    }
   ],
   "source": [
    "for column in [\"bathroom\",\"furniture\",\"parking\",\n",
    "               \"security\"]:\n",
    "\n",
    "    krisha_almaty_dataset_filtered_columns[column] = krisha_almaty_dataset_filtered_columns[column].fillna('неизвестно')"
   ]
  },
  {
   "cell_type": "code",
   "execution_count": 14,
   "id": "f8ac99ba-40bc-4504-b343-35aab8eb16a1",
   "metadata": {},
   "outputs": [
    {
     "data": {
      "text/plain": [
       "id                0\n",
       "floor           380\n",
       "total_floors    380\n",
       "area_sqm          0\n",
       "rooms             0\n",
       "bathroom          0\n",
       "full_address      0\n",
       "furniture         0\n",
       "parking           0\n",
       "security          0\n",
       "price             0\n",
       "url               0\n",
       "dtype: int64"
      ]
     },
     "execution_count": 14,
     "metadata": {},
     "output_type": "execute_result"
    }
   ],
   "source": [
    "krisha_almaty_dataset_filtered_columns.isna().sum()"
   ]
  },
  {
   "cell_type": "markdown",
   "id": "0962cdbc-d149-4744-8633-e60536dc7f65",
   "metadata": {
    "jp-MarkdownHeadingCollapsed": true
   },
   "source": [
    "##### KNNImputer"
   ]
  },
  {
   "cell_type": "code",
   "execution_count": 15,
   "id": "af6203d0-9991-41b8-b818-e275943dc0dc",
   "metadata": {},
   "outputs": [],
   "source": [
    "from sklearn.impute import KNNImputer\n",
    "from sklearn import metrics"
   ]
  },
  {
   "cell_type": "code",
   "execution_count": 16,
   "id": "493d0d3f-67b6-42ae-a8fc-bec1d4018b7f",
   "metadata": {
    "scrolled": true
   },
   "outputs": [
    {
     "name": "stderr",
     "output_type": "stream",
     "text": [
      "C:\\Users\\User\\anaconda3\\Lib\\site-packages\\sklearn\\metrics\\_regression.py:492: FutureWarning: 'squared' is deprecated in version 1.4 and will be removed in 1.6. To calculate the root mean squared error, use the function'root_mean_squared_error'.\n",
      "  warnings.warn(\n",
      "C:\\Users\\User\\anaconda3\\Lib\\site-packages\\sklearn\\metrics\\_regression.py:492: FutureWarning: 'squared' is deprecated in version 1.4 and will be removed in 1.6. To calculate the root mean squared error, use the function'root_mean_squared_error'.\n",
      "  warnings.warn(\n",
      "C:\\Users\\User\\anaconda3\\Lib\\site-packages\\sklearn\\metrics\\_regression.py:492: FutureWarning: 'squared' is deprecated in version 1.4 and will be removed in 1.6. To calculate the root mean squared error, use the function'root_mean_squared_error'.\n",
      "  warnings.warn(\n",
      "C:\\Users\\User\\anaconda3\\Lib\\site-packages\\sklearn\\metrics\\_regression.py:492: FutureWarning: 'squared' is deprecated in version 1.4 and will be removed in 1.6. To calculate the root mean squared error, use the function'root_mean_squared_error'.\n",
      "  warnings.warn(\n",
      "C:\\Users\\User\\anaconda3\\Lib\\site-packages\\sklearn\\metrics\\_regression.py:492: FutureWarning: 'squared' is deprecated in version 1.4 and will be removed in 1.6. To calculate the root mean squared error, use the function'root_mean_squared_error'.\n",
      "  warnings.warn(\n",
      "C:\\Users\\User\\anaconda3\\Lib\\site-packages\\sklearn\\metrics\\_regression.py:492: FutureWarning: 'squared' is deprecated in version 1.4 and will be removed in 1.6. To calculate the root mean squared error, use the function'root_mean_squared_error'.\n",
      "  warnings.warn(\n",
      "C:\\Users\\User\\anaconda3\\Lib\\site-packages\\sklearn\\metrics\\_regression.py:492: FutureWarning: 'squared' is deprecated in version 1.4 and will be removed in 1.6. To calculate the root mean squared error, use the function'root_mean_squared_error'.\n",
      "  warnings.warn(\n",
      "C:\\Users\\User\\anaconda3\\Lib\\site-packages\\sklearn\\metrics\\_regression.py:492: FutureWarning: 'squared' is deprecated in version 1.4 and will be removed in 1.6. To calculate the root mean squared error, use the function'root_mean_squared_error'.\n",
      "  warnings.warn(\n",
      "C:\\Users\\User\\anaconda3\\Lib\\site-packages\\sklearn\\metrics\\_regression.py:492: FutureWarning: 'squared' is deprecated in version 1.4 and will be removed in 1.6. To calculate the root mean squared error, use the function'root_mean_squared_error'.\n",
      "  warnings.warn(\n",
      "C:\\Users\\User\\anaconda3\\Lib\\site-packages\\sklearn\\metrics\\_regression.py:492: FutureWarning: 'squared' is deprecated in version 1.4 and will be removed in 1.6. To calculate the root mean squared error, use the function'root_mean_squared_error'.\n",
      "  warnings.warn(\n",
      "C:\\Users\\User\\anaconda3\\Lib\\site-packages\\sklearn\\metrics\\_regression.py:492: FutureWarning: 'squared' is deprecated in version 1.4 and will be removed in 1.6. To calculate the root mean squared error, use the function'root_mean_squared_error'.\n",
      "  warnings.warn(\n",
      "C:\\Users\\User\\anaconda3\\Lib\\site-packages\\sklearn\\metrics\\_regression.py:492: FutureWarning: 'squared' is deprecated in version 1.4 and will be removed in 1.6. To calculate the root mean squared error, use the function'root_mean_squared_error'.\n",
      "  warnings.warn(\n",
      "C:\\Users\\User\\anaconda3\\Lib\\site-packages\\sklearn\\metrics\\_regression.py:492: FutureWarning: 'squared' is deprecated in version 1.4 and will be removed in 1.6. To calculate the root mean squared error, use the function'root_mean_squared_error'.\n",
      "  warnings.warn(\n",
      "C:\\Users\\User\\anaconda3\\Lib\\site-packages\\sklearn\\metrics\\_regression.py:492: FutureWarning: 'squared' is deprecated in version 1.4 and will be removed in 1.6. To calculate the root mean squared error, use the function'root_mean_squared_error'.\n",
      "  warnings.warn(\n",
      "C:\\Users\\User\\anaconda3\\Lib\\site-packages\\sklearn\\metrics\\_regression.py:492: FutureWarning: 'squared' is deprecated in version 1.4 and will be removed in 1.6. To calculate the root mean squared error, use the function'root_mean_squared_error'.\n",
      "  warnings.warn(\n",
      "C:\\Users\\User\\anaconda3\\Lib\\site-packages\\sklearn\\metrics\\_regression.py:492: FutureWarning: 'squared' is deprecated in version 1.4 and will be removed in 1.6. To calculate the root mean squared error, use the function'root_mean_squared_error'.\n",
      "  warnings.warn(\n",
      "C:\\Users\\User\\anaconda3\\Lib\\site-packages\\sklearn\\metrics\\_regression.py:492: FutureWarning: 'squared' is deprecated in version 1.4 and will be removed in 1.6. To calculate the root mean squared error, use the function'root_mean_squared_error'.\n",
      "  warnings.warn(\n",
      "C:\\Users\\User\\anaconda3\\Lib\\site-packages\\sklearn\\metrics\\_regression.py:492: FutureWarning: 'squared' is deprecated in version 1.4 and will be removed in 1.6. To calculate the root mean squared error, use the function'root_mean_squared_error'.\n",
      "  warnings.warn(\n",
      "C:\\Users\\User\\anaconda3\\Lib\\site-packages\\sklearn\\metrics\\_regression.py:492: FutureWarning: 'squared' is deprecated in version 1.4 and will be removed in 1.6. To calculate the root mean squared error, use the function'root_mean_squared_error'.\n",
      "  warnings.warn(\n"
     ]
    },
    {
     "name": "stdout",
     "output_type": "stream",
     "text": [
      "Best n_neighbors: 17\n"
     ]
    },
    {
     "name": "stderr",
     "output_type": "stream",
     "text": [
      "C:\\Users\\User\\anaconda3\\Lib\\site-packages\\sklearn\\metrics\\_regression.py:492: FutureWarning: 'squared' is deprecated in version 1.4 and will be removed in 1.6. To calculate the root mean squared error, use the function'root_mean_squared_error'.\n",
      "  warnings.warn(\n"
     ]
    }
   ],
   "source": [
    "\n",
    "\n",
    "# Step 1: Copy your data\n",
    "df = krisha_almaty_dataset_filtered_columns.copy()\n",
    "\n",
    "# Step 2: Pick a numeric column to test\n",
    "col_to_test = 'floor'\n",
    "\n",
    "# Step 3: Temporarily hide some known values\n",
    "np.random.seed(0)\n",
    "known_values_idx = df[df[col_to_test].notna()].index\n",
    "test_indices = np.random.choice(known_values_idx, size=int(0.2 * len(known_values_idx)), replace=False)\n",
    "\n",
    "true_values = df.loc[test_indices, col_to_test]\n",
    "df.loc[test_indices, col_to_test] = np.nan\n",
    "\n",
    "# Step 4: Try different k values\n",
    "errors = {}\n",
    "for k in range(1, 21):\n",
    "    imputer = KNNImputer(n_neighbors=k)\n",
    "    df_imputed = pd.DataFrame(imputer.fit_transform(df.select_dtypes(include=[np.number])), columns=df.select_dtypes(include=[np.number]).columns)\n",
    "    \n",
    "    # Compare imputed vs true\n",
    "    imputed_values = df_imputed.loc[test_indices, col_to_test]\n",
    "    error = metrics.mean_squared_error(true_values, imputed_values, squared=False)  # RMSE\n",
    "    errors[k] = error\n",
    "\n",
    "# Step 5: Find best k\n",
    "best_k = min(errors, key=errors.get)\n",
    "print(f\"Best n_neighbors: {best_k}\")"
   ]
  },
  {
   "cell_type": "code",
   "execution_count": 17,
   "id": "3a6d77d0-aa1d-4cb4-8c5c-7bda296b2a7a",
   "metadata": {},
   "outputs": [],
   "source": [
    "imputer = KNNImputer(n_neighbors=17)\n",
    "\n",
    "# Select columns without NaNs and not object dtype (non-categorical)\n",
    "krisha_almaty_dataset_filtered_columns_non_nan = [\n",
    "    column for column in krisha_almaty_dataset_filtered_columns.columns\n",
    "    if krisha_almaty_dataset_filtered_columns[column].isna().sum() == 0 and\n",
    "    krisha_almaty_dataset_filtered_columns[column].dtype != 'O'\n",
    "]\n",
    "\n",
    "krisha_almaty_dataset_filtered_columns_nan = krisha_almaty_dataset_filtered_columns.select_dtypes(include = ('number')).drop(columns = krisha_almaty_dataset_filtered_columns_non_nan)"
   ]
  },
  {
   "cell_type": "code",
   "execution_count": 18,
   "id": "c98f37ec-9727-4e72-aac6-33874e4d3be2",
   "metadata": {},
   "outputs": [
    {
     "name": "stderr",
     "output_type": "stream",
     "text": [
      "C:\\Users\\User\\AppData\\Local\\Temp\\ipykernel_17764\\4095902593.py:1: SettingWithCopyWarning: \n",
      "A value is trying to be set on a copy of a slice from a DataFrame.\n",
      "Try using .loc[row_indexer,col_indexer] = value instead\n",
      "\n",
      "See the caveats in the documentation: https://pandas.pydata.org/pandas-docs/stable/user_guide/indexing.html#returning-a-view-versus-a-copy\n",
      "  krisha_almaty_dataset_filtered_columns[krisha_almaty_dataset_filtered_columns_nan.columns] = imputer.fit_transform(krisha_almaty_dataset_filtered_columns_nan)\n"
     ]
    }
   ],
   "source": [
    "krisha_almaty_dataset_filtered_columns[krisha_almaty_dataset_filtered_columns_nan.columns] = imputer.fit_transform(krisha_almaty_dataset_filtered_columns_nan)"
   ]
  },
  {
   "cell_type": "code",
   "execution_count": 19,
   "id": "8bdfaafd-9860-4aaf-8f0c-3518bdba595c",
   "metadata": {},
   "outputs": [
    {
     "name": "stderr",
     "output_type": "stream",
     "text": [
      "C:\\Users\\User\\AppData\\Local\\Temp\\ipykernel_17764\\290731135.py:2: SettingWithCopyWarning: \n",
      "A value is trying to be set on a copy of a slice from a DataFrame.\n",
      "Try using .loc[row_indexer,col_indexer] = value instead\n",
      "\n",
      "See the caveats in the documentation: https://pandas.pydata.org/pandas-docs/stable/user_guide/indexing.html#returning-a-view-versus-a-copy\n",
      "  krisha_almaty_dataset_filtered_columns[column] = np.round(krisha_almaty_dataset_filtered_columns[column])\n"
     ]
    }
   ],
   "source": [
    "for column in krisha_almaty_dataset_filtered_columns_nan.columns:\n",
    "    krisha_almaty_dataset_filtered_columns[column] = np.round(krisha_almaty_dataset_filtered_columns[column])"
   ]
  },
  {
   "cell_type": "code",
   "execution_count": 20,
   "id": "daf3351e-2716-4476-ab64-7b15e2ea95f4",
   "metadata": {},
   "outputs": [
    {
     "name": "stdout",
     "output_type": "stream",
     "text": [
      "<class 'pandas.core.frame.DataFrame'>\n",
      "RangeIndex: 6575 entries, 0 to 6574\n",
      "Data columns (total 12 columns):\n",
      " #   Column        Non-Null Count  Dtype  \n",
      "---  ------        --------------  -----  \n",
      " 0   id            6575 non-null   int64  \n",
      " 1   floor         6575 non-null   float64\n",
      " 2   total_floors  6575 non-null   float64\n",
      " 3   area_sqm      6575 non-null   float64\n",
      " 4   rooms         6575 non-null   int64  \n",
      " 5   bathroom      6575 non-null   object \n",
      " 6   full_address  6575 non-null   object \n",
      " 7   furniture     6575 non-null   object \n",
      " 8   parking       6575 non-null   object \n",
      " 9   security      6575 non-null   object \n",
      " 10  price         6575 non-null   int64  \n",
      " 11  url           6575 non-null   object \n",
      "dtypes: float64(3), int64(3), object(6)\n",
      "memory usage: 616.5+ KB\n"
     ]
    }
   ],
   "source": [
    "krisha_almaty_dataset_filtered_columns.info()"
   ]
  },
  {
   "cell_type": "code",
   "execution_count": 21,
   "id": "76412d58-a1a6-49c7-a5e6-d6c09968f7c1",
   "metadata": {},
   "outputs": [
    {
     "data": {
      "text/plain": [
       "False"
      ]
     },
     "execution_count": 21,
     "metadata": {},
     "output_type": "execute_result"
    }
   ],
   "source": [
    "krisha_almaty_dataset_filtered_columns.isna().sum().any()"
   ]
  },
  {
   "cell_type": "code",
   "execution_count": 24,
   "id": "8e8dc19e-ad9f-484a-b559-07df2bb7768d",
   "metadata": {},
   "outputs": [
    {
     "data": {
      "text/html": [
       "<div>\n",
       "<style scoped>\n",
       "    .dataframe tbody tr th:only-of-type {\n",
       "        vertical-align: middle;\n",
       "    }\n",
       "\n",
       "    .dataframe tbody tr th {\n",
       "        vertical-align: top;\n",
       "    }\n",
       "\n",
       "    .dataframe thead th {\n",
       "        text-align: right;\n",
       "    }\n",
       "</style>\n",
       "<table border=\"1\" class=\"dataframe\">\n",
       "  <thead>\n",
       "    <tr style=\"text-align: right;\">\n",
       "      <th></th>\n",
       "      <th>id</th>\n",
       "      <th>floor</th>\n",
       "      <th>total_floors</th>\n",
       "      <th>area_sqm</th>\n",
       "      <th>rooms</th>\n",
       "      <th>bathroom</th>\n",
       "      <th>full_address</th>\n",
       "      <th>furniture</th>\n",
       "      <th>parking</th>\n",
       "      <th>security</th>\n",
       "      <th>price</th>\n",
       "      <th>url</th>\n",
       "    </tr>\n",
       "  </thead>\n",
       "  <tbody>\n",
       "    <tr>\n",
       "      <th>3353</th>\n",
       "      <td>760758561</td>\n",
       "      <td>1.00</td>\n",
       "      <td>3.00</td>\n",
       "      <td>153.50</td>\n",
       "      <td>3</td>\n",
       "      <td>неизвестно</td>\n",
       "      <td>Алматы, Бостандыкский р-н\\r\\nпоказать на карте</td>\n",
       "      <td>неизвестно</td>\n",
       "      <td>неизвестно</td>\n",
       "      <td>неизвестно</td>\n",
       "      <td>3300000</td>\n",
       "      <td>https://krisha.kz/a/show/760758561</td>\n",
       "    </tr>\n",
       "    <tr>\n",
       "      <th>363</th>\n",
       "      <td>1000272953</td>\n",
       "      <td>9.00</td>\n",
       "      <td>12.00</td>\n",
       "      <td>55.00</td>\n",
       "      <td>2</td>\n",
       "      <td>совмещен</td>\n",
       "      <td>Алматы, Алмалинский р-н\\r\\nпоказать на карте</td>\n",
       "      <td>кровать, обеденный стол, шкаф для одежды, кухо...</td>\n",
       "      <td>неизвестно</td>\n",
       "      <td>неизвестно</td>\n",
       "      <td>400000</td>\n",
       "      <td>https://krisha.kz/a/show/1000272953</td>\n",
       "    </tr>\n",
       "    <tr>\n",
       "      <th>4826</th>\n",
       "      <td>682205892</td>\n",
       "      <td>7.00</td>\n",
       "      <td>14.00</td>\n",
       "      <td>125.00</td>\n",
       "      <td>3</td>\n",
       "      <td>разделен</td>\n",
       "      <td>Алматы, Бостандыкский р-н\\r\\nпоказать на карте</td>\n",
       "      <td>кровать, обеденный стол, шкаф для одежды, кухо...</td>\n",
       "      <td>неизвестно</td>\n",
       "      <td>неизвестно</td>\n",
       "      <td>400000</td>\n",
       "      <td>https://krisha.kz/a/show/682205892</td>\n",
       "    </tr>\n",
       "    <tr>\n",
       "      <th>5404</th>\n",
       "      <td>696773012</td>\n",
       "      <td>5.00</td>\n",
       "      <td>9.00</td>\n",
       "      <td>60.00</td>\n",
       "      <td>2</td>\n",
       "      <td>разделен</td>\n",
       "      <td>Алматы, Бостандыкский р-н\\r\\nпоказать на карте</td>\n",
       "      <td>неизвестно</td>\n",
       "      <td>неизвестно</td>\n",
       "      <td>неизвестно</td>\n",
       "      <td>280000</td>\n",
       "      <td>https://krisha.kz/a/show/696773012</td>\n",
       "    </tr>\n",
       "    <tr>\n",
       "      <th>783</th>\n",
       "      <td>680032342</td>\n",
       "      <td>4.00</td>\n",
       "      <td>5.00</td>\n",
       "      <td>62.00</td>\n",
       "      <td>3</td>\n",
       "      <td>разделен</td>\n",
       "      <td>Алматы, Алмалинский р-н\\r\\nпоказать на карте</td>\n",
       "      <td>кровать, обеденный стол, шкаф для одежды, кухо...</td>\n",
       "      <td>неизвестно</td>\n",
       "      <td>неизвестно</td>\n",
       "      <td>300000</td>\n",
       "      <td>https://krisha.kz/a/show/680032342</td>\n",
       "    </tr>\n",
       "  </tbody>\n",
       "</table>\n",
       "</div>"
      ],
      "text/plain": [
       "              id  floor  total_floors  area_sqm  rooms    bathroom  \\\n",
       "3353   760758561   1.00          3.00    153.50      3  неизвестно   \n",
       "363   1000272953   9.00         12.00     55.00      2    совмещен   \n",
       "4826   682205892   7.00         14.00    125.00      3    разделен   \n",
       "5404   696773012   5.00          9.00     60.00      2    разделен   \n",
       "783    680032342   4.00          5.00     62.00      3    разделен   \n",
       "\n",
       "                                        full_address  \\\n",
       "3353  Алматы, Бостандыкский р-н\\r\\nпоказать на карте   \n",
       "363     Алматы, Алмалинский р-н\\r\\nпоказать на карте   \n",
       "4826  Алматы, Бостандыкский р-н\\r\\nпоказать на карте   \n",
       "5404  Алматы, Бостандыкский р-н\\r\\nпоказать на карте   \n",
       "783     Алматы, Алмалинский р-н\\r\\nпоказать на карте   \n",
       "\n",
       "                                              furniture     parking  \\\n",
       "3353                                         неизвестно  неизвестно   \n",
       "363   кровать, обеденный стол, шкаф для одежды, кухо...  неизвестно   \n",
       "4826  кровать, обеденный стол, шкаф для одежды, кухо...  неизвестно   \n",
       "5404                                         неизвестно  неизвестно   \n",
       "783   кровать, обеденный стол, шкаф для одежды, кухо...  неизвестно   \n",
       "\n",
       "        security    price                                  url  \n",
       "3353  неизвестно  3300000   https://krisha.kz/a/show/760758561  \n",
       "363   неизвестно   400000  https://krisha.kz/a/show/1000272953  \n",
       "4826  неизвестно   400000   https://krisha.kz/a/show/682205892  \n",
       "5404  неизвестно   280000   https://krisha.kz/a/show/696773012  \n",
       "783   неизвестно   300000   https://krisha.kz/a/show/680032342  "
      ]
     },
     "execution_count": 24,
     "metadata": {},
     "output_type": "execute_result"
    }
   ],
   "source": [
    "# Finally!\n",
    "\n",
    "krisha_almaty_dataset_filtered_columns.sample(5)\n"
   ]
  },
  {
   "cell_type": "markdown",
   "id": "56e99494-4ec1-43fd-873d-8952a7d8e40d",
   "metadata": {
    "jp-MarkdownHeadingCollapsed": true
   },
   "source": [
    "#### DEALING WITH TEXTUAL DATA"
   ]
  },
  {
   "cell_type": "code",
   "execution_count": 25,
   "id": "99716a34-1836-4c92-bac6-762d133e1c9f",
   "metadata": {},
   "outputs": [
    {
     "data": {
      "text/plain": [
       "Index(['id', 'floor', 'total_floors', 'area_sqm', 'rooms', 'bathroom',\n",
       "       'full_address', 'furniture', 'parking', 'security', 'price', 'url'],\n",
       "      dtype='object')"
      ]
     },
     "execution_count": 25,
     "metadata": {},
     "output_type": "execute_result"
    }
   ],
   "source": [
    "krisha_almaty_dataset_filtered_columns.columns"
   ]
  },
  {
   "cell_type": "code",
   "execution_count": 32,
   "id": "aefe8350-d2f8-475a-baa0-d658f9bd3414",
   "metadata": {
    "scrolled": true
   },
   "outputs": [
    {
     "name": "stderr",
     "output_type": "stream",
     "text": [
      "C:\\Users\\User\\AppData\\Local\\Temp\\ipykernel_17764\\1044547089.py:25: SettingWithCopyWarning: \n",
      "A value is trying to be set on a copy of a slice from a DataFrame.\n",
      "Try using .loc[row_indexer,col_indexer] = value instead\n",
      "\n",
      "See the caveats in the documentation: https://pandas.pydata.org/pandas-docs/stable/user_guide/indexing.html#returning-a-view-versus-a-copy\n",
      "  df[category_column] = df[category_column].astype('category')\n",
      "C:\\Users\\User\\AppData\\Local\\Temp\\ipykernel_17764\\1044547089.py:25: SettingWithCopyWarning: \n",
      "A value is trying to be set on a copy of a slice from a DataFrame.\n",
      "Try using .loc[row_indexer,col_indexer] = value instead\n",
      "\n",
      "See the caveats in the documentation: https://pandas.pydata.org/pandas-docs/stable/user_guide/indexing.html#returning-a-view-versus-a-copy\n",
      "  df[category_column] = df[category_column].astype('category')\n",
      "C:\\Users\\User\\AppData\\Local\\Temp\\ipykernel_17764\\1044547089.py:29: SettingWithCopyWarning: \n",
      "A value is trying to be set on a copy of a slice from a DataFrame.\n",
      "Try using .loc[row_indexer,col_indexer] = value instead\n",
      "\n",
      "See the caveats in the documentation: https://pandas.pydata.org/pandas-docs/stable/user_guide/indexing.html#returning-a-view-versus-a-copy\n",
      "  df[f'{column}_code'] = df[column].cat.codes\n",
      "C:\\Users\\User\\AppData\\Local\\Temp\\ipykernel_17764\\1044547089.py:29: SettingWithCopyWarning: \n",
      "A value is trying to be set on a copy of a slice from a DataFrame.\n",
      "Try using .loc[row_indexer,col_indexer] = value instead\n",
      "\n",
      "See the caveats in the documentation: https://pandas.pydata.org/pandas-docs/stable/user_guide/indexing.html#returning-a-view-versus-a-copy\n",
      "  df[f'{column}_code'] = df[column].cat.codes\n"
     ]
    }
   ],
   "source": [
    "krisha_almaty_dataset_filtered_columns = cleaner(df = krisha_almaty_dataset_filtered_columns, \n",
    "                                                 unneeded_columns=None, \n",
    "                                                 date_columns=None, \n",
    "                                                 date_format = None , \n",
    "                                                 to_category_columns=[\"full_address\",'furniture', 'parking', 'security','bathroom'], \n",
    "                                                 to_cat_code_columns = [\"full_address\",'furniture', 'parking', 'security','bathroom'], \n",
    "                                                 outlier_columns=['price'])"
   ]
  },
  {
   "cell_type": "code",
   "execution_count": 33,
   "id": "b14848ca-c760-45f2-903a-457a76b18d84",
   "metadata": {},
   "outputs": [
    {
     "data": {
      "text/html": [
       "<div>\n",
       "<style scoped>\n",
       "    .dataframe tbody tr th:only-of-type {\n",
       "        vertical-align: middle;\n",
       "    }\n",
       "\n",
       "    .dataframe tbody tr th {\n",
       "        vertical-align: top;\n",
       "    }\n",
       "\n",
       "    .dataframe thead th {\n",
       "        text-align: right;\n",
       "    }\n",
       "</style>\n",
       "<table border=\"1\" class=\"dataframe\">\n",
       "  <thead>\n",
       "    <tr style=\"text-align: right;\">\n",
       "      <th></th>\n",
       "      <th>id</th>\n",
       "      <th>floor</th>\n",
       "      <th>total_floors</th>\n",
       "      <th>area_sqm</th>\n",
       "      <th>rooms</th>\n",
       "      <th>price</th>\n",
       "      <th>full_address_code</th>\n",
       "      <th>furniture_code</th>\n",
       "      <th>parking_code</th>\n",
       "      <th>security_code</th>\n",
       "      <th>bathroom_code</th>\n",
       "    </tr>\n",
       "  </thead>\n",
       "  <tbody>\n",
       "    <tr>\n",
       "      <th>count</th>\n",
       "      <td>6135.00</td>\n",
       "      <td>6135.00</td>\n",
       "      <td>6135.00</td>\n",
       "      <td>6135.00</td>\n",
       "      <td>6135.00</td>\n",
       "      <td>6135.00</td>\n",
       "      <td>6135.00</td>\n",
       "      <td>6135.00</td>\n",
       "      <td>6135.00</td>\n",
       "      <td>6135.00</td>\n",
       "      <td>6135.00</td>\n",
       "    </tr>\n",
       "    <tr>\n",
       "      <th>mean</th>\n",
       "      <td>826593058.25</td>\n",
       "      <td>5.01</td>\n",
       "      <td>8.95</td>\n",
       "      <td>54.75</td>\n",
       "      <td>1.82</td>\n",
       "      <td>299602.93</td>\n",
       "      <td>3.87</td>\n",
       "      <td>27.63</td>\n",
       "      <td>1.03</td>\n",
       "      <td>33.11</td>\n",
       "      <td>3.52</td>\n",
       "    </tr>\n",
       "    <tr>\n",
       "      <th>std</th>\n",
       "      <td>152206407.78</td>\n",
       "      <td>3.56</td>\n",
       "      <td>4.99</td>\n",
       "      <td>24.24</td>\n",
       "      <td>0.74</td>\n",
       "      <td>128837.96</td>\n",
       "      <td>2.08</td>\n",
       "      <td>10.49</td>\n",
       "      <td>0.23</td>\n",
       "      <td>10.71</td>\n",
       "      <td>1.75</td>\n",
       "    </tr>\n",
       "    <tr>\n",
       "      <th>min</th>\n",
       "      <td>5674257.00</td>\n",
       "      <td>1.00</td>\n",
       "      <td>1.00</td>\n",
       "      <td>1.00</td>\n",
       "      <td>1.00</td>\n",
       "      <td>47000.00</td>\n",
       "      <td>0.00</td>\n",
       "      <td>0.00</td>\n",
       "      <td>0.00</td>\n",
       "      <td>0.00</td>\n",
       "      <td>0.00</td>\n",
       "    </tr>\n",
       "    <tr>\n",
       "      <th>25%</th>\n",
       "      <td>695389439.50</td>\n",
       "      <td>2.00</td>\n",
       "      <td>5.00</td>\n",
       "      <td>40.00</td>\n",
       "      <td>1.00</td>\n",
       "      <td>200000.00</td>\n",
       "      <td>2.00</td>\n",
       "      <td>19.00</td>\n",
       "      <td>1.00</td>\n",
       "      <td>32.00</td>\n",
       "      <td>2.00</td>\n",
       "    </tr>\n",
       "    <tr>\n",
       "      <th>50%</th>\n",
       "      <td>761682413.00</td>\n",
       "      <td>4.00</td>\n",
       "      <td>9.00</td>\n",
       "      <td>50.00</td>\n",
       "      <td>2.00</td>\n",
       "      <td>270000.00</td>\n",
       "      <td>4.00</td>\n",
       "      <td>20.00</td>\n",
       "      <td>1.00</td>\n",
       "      <td>32.00</td>\n",
       "      <td>5.00</td>\n",
       "    </tr>\n",
       "    <tr>\n",
       "      <th>75%</th>\n",
       "      <td>1000549930.50</td>\n",
       "      <td>7.00</td>\n",
       "      <td>12.00</td>\n",
       "      <td>65.00</td>\n",
       "      <td>2.00</td>\n",
       "      <td>350000.00</td>\n",
       "      <td>5.00</td>\n",
       "      <td>34.00</td>\n",
       "      <td>1.00</td>\n",
       "      <td>32.00</td>\n",
       "      <td>5.00</td>\n",
       "    </tr>\n",
       "    <tr>\n",
       "      <th>max</th>\n",
       "      <td>1000738885.00</td>\n",
       "      <td>30.00</td>\n",
       "      <td>33.00</td>\n",
       "      <td>769.00</td>\n",
       "      <td>5.00</td>\n",
       "      <td>700000.00</td>\n",
       "      <td>8.00</td>\n",
       "      <td>58.00</td>\n",
       "      <td>3.00</td>\n",
       "      <td>114.00</td>\n",
       "      <td>6.00</td>\n",
       "    </tr>\n",
       "  </tbody>\n",
       "</table>\n",
       "</div>"
      ],
      "text/plain": [
       "                 id   floor  total_floors  area_sqm   rooms     price  \\\n",
       "count       6135.00 6135.00       6135.00   6135.00 6135.00   6135.00   \n",
       "mean   826593058.25    5.01          8.95     54.75    1.82 299602.93   \n",
       "std    152206407.78    3.56          4.99     24.24    0.74 128837.96   \n",
       "min      5674257.00    1.00          1.00      1.00    1.00  47000.00   \n",
       "25%    695389439.50    2.00          5.00     40.00    1.00 200000.00   \n",
       "50%    761682413.00    4.00          9.00     50.00    2.00 270000.00   \n",
       "75%   1000549930.50    7.00         12.00     65.00    2.00 350000.00   \n",
       "max   1000738885.00   30.00         33.00    769.00    5.00 700000.00   \n",
       "\n",
       "       full_address_code  furniture_code  parking_code  security_code  \\\n",
       "count            6135.00         6135.00       6135.00        6135.00   \n",
       "mean                3.87           27.63          1.03          33.11   \n",
       "std                 2.08           10.49          0.23          10.71   \n",
       "min                 0.00            0.00          0.00           0.00   \n",
       "25%                 2.00           19.00          1.00          32.00   \n",
       "50%                 4.00           20.00          1.00          32.00   \n",
       "75%                 5.00           34.00          1.00          32.00   \n",
       "max                 8.00           58.00          3.00         114.00   \n",
       "\n",
       "       bathroom_code  \n",
       "count        6135.00  \n",
       "mean            3.52  \n",
       "std             1.75  \n",
       "min             0.00  \n",
       "25%             2.00  \n",
       "50%             5.00  \n",
       "75%             5.00  \n",
       "max             6.00  "
      ]
     },
     "execution_count": 33,
     "metadata": {},
     "output_type": "execute_result"
    }
   ],
   "source": [
    "krisha_almaty_dataset_filtered_columns.describe()"
   ]
  },
  {
   "cell_type": "code",
   "execution_count": 34,
   "id": "2082c62e-d946-460c-b71e-3d0731c94b1d",
   "metadata": {},
   "outputs": [
    {
     "data": {
      "text/html": [
       "<div>\n",
       "<style scoped>\n",
       "    .dataframe tbody tr th:only-of-type {\n",
       "        vertical-align: middle;\n",
       "    }\n",
       "\n",
       "    .dataframe tbody tr th {\n",
       "        vertical-align: top;\n",
       "    }\n",
       "\n",
       "    .dataframe thead th {\n",
       "        text-align: right;\n",
       "    }\n",
       "</style>\n",
       "<table border=\"1\" class=\"dataframe\">\n",
       "  <thead>\n",
       "    <tr style=\"text-align: right;\">\n",
       "      <th></th>\n",
       "      <th>id</th>\n",
       "      <th>floor</th>\n",
       "      <th>total_floors</th>\n",
       "      <th>area_sqm</th>\n",
       "      <th>rooms</th>\n",
       "      <th>bathroom</th>\n",
       "      <th>full_address</th>\n",
       "      <th>furniture</th>\n",
       "      <th>parking</th>\n",
       "      <th>security</th>\n",
       "      <th>price</th>\n",
       "      <th>url</th>\n",
       "      <th>full_address_code</th>\n",
       "      <th>furniture_code</th>\n",
       "      <th>parking_code</th>\n",
       "      <th>security_code</th>\n",
       "      <th>bathroom_code</th>\n",
       "    </tr>\n",
       "  </thead>\n",
       "  <tbody>\n",
       "    <tr>\n",
       "      <th>3477</th>\n",
       "      <td>1000679535</td>\n",
       "      <td>4</td>\n",
       "      <td>5</td>\n",
       "      <td>38.00</td>\n",
       "      <td>1</td>\n",
       "      <td>неизвестно</td>\n",
       "      <td>Алматы, Ауэзовский р-н\\r\\nпоказать на карте</td>\n",
       "      <td>кровать, обеденный стол, шкаф для одежды, кухо...</td>\n",
       "      <td>неизвестно</td>\n",
       "      <td>неизвестно</td>\n",
       "      <td>185000</td>\n",
       "      <td>https://krisha.kz/a/show/1000679535</td>\n",
       "      <td>3</td>\n",
       "      <td>18</td>\n",
       "      <td>1</td>\n",
       "      <td>32</td>\n",
       "      <td>1</td>\n",
       "    </tr>\n",
       "    <tr>\n",
       "      <th>3275</th>\n",
       "      <td>1000127575</td>\n",
       "      <td>5</td>\n",
       "      <td>9</td>\n",
       "      <td>79.00</td>\n",
       "      <td>2</td>\n",
       "      <td>неизвестно</td>\n",
       "      <td>Алматы, Бостандыкский р-н\\r\\nпоказать на карте</td>\n",
       "      <td>кровать, обеденный стол, шкаф для одежды, кухо...</td>\n",
       "      <td>неизвестно</td>\n",
       "      <td>неизвестно</td>\n",
       "      <td>550000</td>\n",
       "      <td>https://krisha.kz/a/show/1000127575</td>\n",
       "      <td>4</td>\n",
       "      <td>18</td>\n",
       "      <td>1</td>\n",
       "      <td>32</td>\n",
       "      <td>1</td>\n",
       "    </tr>\n",
       "    <tr>\n",
       "      <th>4016</th>\n",
       "      <td>692031598</td>\n",
       "      <td>2</td>\n",
       "      <td>2</td>\n",
       "      <td>25.00</td>\n",
       "      <td>1</td>\n",
       "      <td>разделен</td>\n",
       "      <td>Алматы, Алатауский р-н\\r\\nпоказать на карте</td>\n",
       "      <td>неизвестно</td>\n",
       "      <td>неизвестно</td>\n",
       "      <td>неизвестно</td>\n",
       "      <td>110000</td>\n",
       "      <td>https://krisha.kz/a/show/692031598</td>\n",
       "      <td>1</td>\n",
       "      <td>34</td>\n",
       "      <td>1</td>\n",
       "      <td>32</td>\n",
       "      <td>2</td>\n",
       "    </tr>\n",
       "    <tr>\n",
       "      <th>3199</th>\n",
       "      <td>762283134</td>\n",
       "      <td>1</td>\n",
       "      <td>5</td>\n",
       "      <td>49.00</td>\n",
       "      <td>2</td>\n",
       "      <td>разделен</td>\n",
       "      <td>Алматы, Алмалинский р-н\\r\\nпоказать на карте</td>\n",
       "      <td>кровать, обеденный стол, кухонный гарнитур, диван</td>\n",
       "      <td>неизвестно</td>\n",
       "      <td>неизвестно</td>\n",
       "      <td>400000</td>\n",
       "      <td>https://krisha.kz/a/show/762283134</td>\n",
       "      <td>2</td>\n",
       "      <td>10</td>\n",
       "      <td>1</td>\n",
       "      <td>32</td>\n",
       "      <td>2</td>\n",
       "    </tr>\n",
       "    <tr>\n",
       "      <th>5223</th>\n",
       "      <td>1000430540</td>\n",
       "      <td>5</td>\n",
       "      <td>9</td>\n",
       "      <td>90.00</td>\n",
       "      <td>3</td>\n",
       "      <td>разделен</td>\n",
       "      <td>Алматы, Алатауский р-н\\r\\nпоказать на карте</td>\n",
       "      <td>кровать, обеденный стол, шкаф для одежды, кухо...</td>\n",
       "      <td>неизвестно</td>\n",
       "      <td>неизвестно</td>\n",
       "      <td>300000</td>\n",
       "      <td>https://krisha.kz/a/show/1000430540</td>\n",
       "      <td>1</td>\n",
       "      <td>20</td>\n",
       "      <td>1</td>\n",
       "      <td>32</td>\n",
       "      <td>2</td>\n",
       "    </tr>\n",
       "  </tbody>\n",
       "</table>\n",
       "</div>"
      ],
      "text/plain": [
       "              id  floor  total_floors  area_sqm  rooms    bathroom  \\\n",
       "3477  1000679535      4             5     38.00      1  неизвестно   \n",
       "3275  1000127575      5             9     79.00      2  неизвестно   \n",
       "4016   692031598      2             2     25.00      1    разделен   \n",
       "3199   762283134      1             5     49.00      2    разделен   \n",
       "5223  1000430540      5             9     90.00      3    разделен   \n",
       "\n",
       "                                        full_address  \\\n",
       "3477     Алматы, Ауэзовский р-н\\r\\nпоказать на карте   \n",
       "3275  Алматы, Бостандыкский р-н\\r\\nпоказать на карте   \n",
       "4016     Алматы, Алатауский р-н\\r\\nпоказать на карте   \n",
       "3199    Алматы, Алмалинский р-н\\r\\nпоказать на карте   \n",
       "5223     Алматы, Алатауский р-н\\r\\nпоказать на карте   \n",
       "\n",
       "                                              furniture     parking  \\\n",
       "3477  кровать, обеденный стол, шкаф для одежды, кухо...  неизвестно   \n",
       "3275  кровать, обеденный стол, шкаф для одежды, кухо...  неизвестно   \n",
       "4016                                         неизвестно  неизвестно   \n",
       "3199  кровать, обеденный стол, кухонный гарнитур, диван  неизвестно   \n",
       "5223  кровать, обеденный стол, шкаф для одежды, кухо...  неизвестно   \n",
       "\n",
       "        security   price                                  url  \\\n",
       "3477  неизвестно  185000  https://krisha.kz/a/show/1000679535   \n",
       "3275  неизвестно  550000  https://krisha.kz/a/show/1000127575   \n",
       "4016  неизвестно  110000   https://krisha.kz/a/show/692031598   \n",
       "3199  неизвестно  400000   https://krisha.kz/a/show/762283134   \n",
       "5223  неизвестно  300000  https://krisha.kz/a/show/1000430540   \n",
       "\n",
       "      full_address_code  furniture_code  parking_code  security_code  \\\n",
       "3477                  3              18             1             32   \n",
       "3275                  4              18             1             32   \n",
       "4016                  1              34             1             32   \n",
       "3199                  2              10             1             32   \n",
       "5223                  1              20             1             32   \n",
       "\n",
       "      bathroom_code  \n",
       "3477              1  \n",
       "3275              1  \n",
       "4016              2  \n",
       "3199              2  \n",
       "5223              2  "
      ]
     },
     "execution_count": 34,
     "metadata": {},
     "output_type": "execute_result"
    }
   ],
   "source": [
    "krisha_almaty_dataset_filtered_columns.sample(5)"
   ]
  },
  {
   "cell_type": "code",
   "execution_count": 35,
   "id": "720edb80-9e62-4e79-9499-ded06a2a6982",
   "metadata": {},
   "outputs": [
    {
     "name": "stdout",
     "output_type": "stream",
     "text": [
      "<class 'pandas.core.frame.DataFrame'>\n",
      "Index: 6135 entries, 0 to 6574\n",
      "Data columns (total 17 columns):\n",
      " #   Column             Non-Null Count  Dtype   \n",
      "---  ------             --------------  -----   \n",
      " 0   id                 6135 non-null   int64   \n",
      " 1   floor              6135 non-null   int32   \n",
      " 2   total_floors       6135 non-null   int32   \n",
      " 3   area_sqm           6135 non-null   float64 \n",
      " 4   rooms              6135 non-null   int64   \n",
      " 5   bathroom           6135 non-null   category\n",
      " 6   full_address       6135 non-null   category\n",
      " 7   furniture          6135 non-null   category\n",
      " 8   parking            6135 non-null   category\n",
      " 9   security           6135 non-null   category\n",
      " 10  price              6135 non-null   int64   \n",
      " 11  url                6135 non-null   object  \n",
      " 12  full_address_code  6135 non-null   int8    \n",
      " 13  furniture_code     6135 non-null   int8    \n",
      " 14  parking_code       6135 non-null   int8    \n",
      " 15  security_code      6135 non-null   int8    \n",
      " 16  bathroom_code      6135 non-null   int8    \n",
      "dtypes: category(5), float64(1), int32(2), int64(3), int8(5), object(1)\n",
      "memory usage: 403.8+ KB\n"
     ]
    }
   ],
   "source": [
    "krisha_almaty_dataset_filtered_columns.info()"
   ]
  },
  {
   "cell_type": "markdown",
   "id": "27360469-6238-49cf-b41c-bc9787592522",
   "metadata": {
    "jp-MarkdownHeadingCollapsed": true
   },
   "source": [
    "## SAVE"
   ]
  },
  {
   "cell_type": "code",
   "execution_count": 37,
   "id": "c1dcad8f-49ba-4bd5-9171-ffa8c8a11f2d",
   "metadata": {},
   "outputs": [],
   "source": [
    "krisha_almaty_rental = krisha_almaty_dataset_filtered_columns"
   ]
  },
  {
   "cell_type": "code",
   "execution_count": 38,
   "id": "97a86805-730b-46f7-aa8d-036b2a87e80e",
   "metadata": {},
   "outputs": [],
   "source": [
    "krisha_almaty_rental.to_csv('krisha_almaty_rental.csv.gz',compression = 'gzip',index = False)"
   ]
  },
  {
   "cell_type": "code",
   "execution_count": null,
   "id": "e6da782c-71a1-4303-8229-9d03fe965046",
   "metadata": {},
   "outputs": [],
   "source": []
  }
 ],
 "metadata": {
  "kernelspec": {
   "display_name": "Python 3 (ipykernel)",
   "language": "python",
   "name": "python3"
  },
  "language_info": {
   "codemirror_mode": {
    "name": "ipython",
    "version": 3
   },
   "file_extension": ".py",
   "mimetype": "text/x-python",
   "name": "python",
   "nbconvert_exporter": "python",
   "pygments_lexer": "ipython3",
   "version": "3.12.7"
  }
 },
 "nbformat": 4,
 "nbformat_minor": 5
}
